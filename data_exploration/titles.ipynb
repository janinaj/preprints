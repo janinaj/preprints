{
 "cells": [
  {
   "cell_type": "code",
   "execution_count": null,
   "metadata": {},
   "outputs": [],
   "source": [
    "# need to install simhash: pip install simhash\n",
    "\n",
    "import re, os, json\n",
    "from simhash import Simhash, SimhashIndex\n",
    "\n",
    "def get_features(s):\n",
    "    width = 3\n",
    "    s = s.lower()\n",
    "    s = re.sub(r'[^\\w]+', '', s)\n",
    "    return [s[i:i + width] for i in range(max(len(s) - width + 1, 1))]\n",
    "\n",
    "file = os.path.join('..', '..', 'data', 'share-jan-2019.json')\n",
    "\n",
    "titles = {}\n",
    "ids = {}\n",
    "\n",
    "count = 0\n",
    "with open(file, 'r') as f:\n",
    "    for line in f:\n",
    "        data = json.loads(line)\n",
    "        titles[count] = data['title']\n",
    "        ids[count] = data['id']        \n",
    "        \n",
    "        count += 1\n",
    "            \n",
    "objs = [(str(k), Simhash(get_features(v))) for k, v in titles.items()]\n",
    "index = SimhashIndex(objs, k=3)\n",
    "\n",
    "similar_docs = {}\n",
    "for (k, obj) in objs:\n",
    "    near_dups = index.get_near_dups(obj)\n",
    "    near_dups.remove(str(k))\n",
    "    \n",
    "    if len(near_dups) > 0:\n",
    "        similar_docs[k] = set(near_dups)\n",
    "\n",
    "while True:\n",
    "    no_change = False\n",
    "\n",
    "    for k, near_dups in similar_docs.items():\n",
    "        orig_len = len(near_dups)\n",
    "        for near_dup in near_dups:\n",
    "            similar_docs[k] = similar_docs[k].union(similar_docs[near_dup])\n",
    "        new_len = len(similar_docs[k])\n",
    "\n",
    "        if orig_len != new_len:\n",
    "            no_change = True\n",
    "\n",
    "    if no_change == False:\n",
    "        break  "
   ]
  },
  {
   "cell_type": "code",
   "execution_count": 45,
   "metadata": {
    "scrolled": true
   },
   "outputs": [],
   "source": [
    "with open(os.path.join('..', '..', 'data_exploration_results', 'similar_titles.txt'), 'w') as o:\n",
    "    clustered_docs = set()\n",
    "    total_clusters = 0\n",
    "    for k, near_dups in similar_docs.items():\n",
    "        if k not in clustered_docs:\n",
    "            o.write('-' * 100 + '\\n')\n",
    "\n",
    "            for near_dup in near_dups:\n",
    "                o.write('{} -- {}\\n'.format(ids[int(near_dup)], titles[int(near_dup)]))\n",
    "                clustered_docs.add(near_dup)\n",
    "\n",
    "            clustered_docs.add(k)\n",
    "            total_clusters += 1"
   ]
  },
  {
   "cell_type": "code",
   "execution_count": 46,
   "metadata": {},
   "outputs": [
    {
     "data": {
      "text/plain": [
       "146094"
      ]
     },
     "execution_count": 46,
     "metadata": {},
     "output_type": "execute_result"
    }
   ],
   "source": [
    "total_clusters"
   ]
  },
  {
   "cell_type": "code",
   "execution_count": null,
   "metadata": {},
   "outputs": [],
   "source": []
  }
 ],
 "metadata": {
  "kernelspec": {
   "display_name": "Python 3",
   "language": "python",
   "name": "python3"
  },
  "language_info": {
   "codemirror_mode": {
    "name": "ipython",
    "version": 3
   },
   "file_extension": ".py",
   "mimetype": "text/x-python",
   "name": "python",
   "nbconvert_exporter": "python",
   "pygments_lexer": "ipython3",
   "version": "3.7.2"
  }
 },
 "nbformat": 4,
 "nbformat_minor": 2
}
