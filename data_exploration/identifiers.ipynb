{
 "cells": [
  {
   "cell_type": "markdown",
   "metadata": {},
   "source": [
    "## STATISTICS FOR ALL TYPES OF IDENTIFIERS"
   ]
  },
  {
   "cell_type": "code",
   "execution_count": 70,
   "metadata": {},
   "outputs": [],
   "source": [
    "import os, json\n",
    "from collections import defaultdict\n",
    "\n",
    "file = os.path.join('..', '..', 'data', 'share-jan-2019.json')\n",
    "\n",
    "records_without_identifiers = 0\n",
    "identifier_occurrences = defaultdict(int)\n",
    "identifier_records = defaultdict(int)\n",
    "identifiers_per_publication = []\n",
    "\n",
    "with open(file, 'r') as f:\n",
    "    for line in f:\n",
    "        data = json.loads(line)\n",
    "        if len(data['identifiers']) == 0:\n",
    "            records_without_identifiers += 1\n",
    "        else:\n",
    "            identifiers_per_publication.append(len(data['identifiers']))\n",
    "            \n",
    "            record_identifiers = set()\n",
    "            for identifier in data['identifiers']:\n",
    "                if identifier.startswith('http://'):\n",
    "                    identifier = identifier.replace('http://', '')\n",
    "                \n",
    "                identifier = identifier.split('/', 1)[0]\n",
    "                \n",
    "                identifier_occurrences[identifier] += 1\n",
    "                record_identifiers.add(identifier)\n",
    "            \n",
    "            for identifier in record_identifiers:\n",
    "                identifier_records[identifier] += 1"
   ]
  },
  {
   "cell_type": "code",
   "execution_count": 72,
   "metadata": {},
   "outputs": [],
   "source": [
    "import csv\n",
    "with open(os.path.join('..', '..', 'data_exploration_results', 'identifiers.csv'), 'w') as o:\n",
    "    writer = csv.writer(o)\n",
    "    writer.writerow(['Identifier', 'Records', 'Occurrences'])\n",
    "    \n",
    "    for identifier, occurrences in sorted(identifiers.items(), key = lambda kv : kv[1], reverse = True):\n",
    "        writer.writerow([identifier, identifier_records[identifier], occurrences])"
   ]
  },
  {
   "cell_type": "code",
   "execution_count": 76,
   "metadata": {},
   "outputs": [
    {
     "data": {
      "text/plain": [
       "0"
      ]
     },
     "execution_count": 76,
     "metadata": {},
     "output_type": "execute_result"
    }
   ],
   "source": [
    "records_without_identifiers"
   ]
  },
  {
   "cell_type": "code",
   "execution_count": 133,
   "metadata": {},
   "outputs": [
    {
     "data": {
      "image/png": "[encoded data removed]",
      "text/plain": [
       "<Figure size 864x576 with 1 Axes>"
      ]
     },
     "metadata": {
      "needs_background": "light"
     },
     "output_type": "display_data"
    }
   ],
   "source": [
    "% matplotlib inline\n",
    "import matplotlib.pyplot as plt\n",
    "import numpy as np\n",
    "\n",
    "freq, counts = np.unique(np.array(identifiers_per_publication), return_counts = True)\n",
    "\n",
    "plt.figure(figsize=(12,8))\n",
    "plt.bar(range(len(freq)), counts)\n",
    "plt.xticks(range(len(freq)), freq)\n",
    "\n",
    "plt.show()"
   ]
  },
  {
   "cell_type": "code",
   "execution_count": 81,
   "metadata": {},
   "outputs": [
    {
     "data": {
      "text/plain": [
       "3930"
      ]
     },
     "execution_count": 81,
     "metadata": {},
     "output_type": "execute_result"
    }
   ],
   "source": [
    "# total number of identifiers\n",
    "len(identifiers.keys())"
   ]
  },
  {
   "cell_type": "markdown",
   "metadata": {},
   "source": [
    "## STATISTICS FOR DOIs"
   ]
  },
  {
   "cell_type": "code",
   "execution_count": 92,
   "metadata": {},
   "outputs": [],
   "source": [
    "doi_prefixes = ['http://dx.doi.org/', 'http://doi.org/']"
   ]
  },
  {
   "cell_type": "code",
   "execution_count": 111,
   "metadata": {
    "scrolled": false
   },
   "outputs": [],
   "source": [
    "import os, json, re\n",
    "from collections import defaultdict\n",
    "\n",
    "file = os.path.join('..', '..', 'data', 'share-jan-2019.json')\n",
    "\n",
    "records_with_dois = 0\n",
    "records_with_possible_dois = 0\n",
    "records_with_multiple_dois = 0\n",
    "\n",
    "with open(file, 'r') as f:\n",
    "    for line in f:\n",
    "        data = json.loads(line)\n",
    "        \n",
    "        record_dois = set()\n",
    "        for identifier in data['identifiers']:\n",
    "            for doi_prefix in doi_prefixes:\n",
    "                if identifier.startswith(doi_prefix):\n",
    "                    record_dois.add(identifier.replace(doi_prefix, ''))\n",
    "                    break\n",
    "\n",
    "        if len(record_dois) == 0 and len(added_dois) == 0:\n",
    "            for identifier in data['identifiers']:\n",
    "                if re.match('(.*)[=:/]10\\.[0-9]{4}(.*)', identifier):\n",
    "                    records_with_possible_dois += 1\n",
    "                    break\n",
    "        \n",
    "        if len(record_dois) > 0:\n",
    "            records_with_dois += 1\n",
    "            \n",
    "            if len(record_dois) > 1:\n",
    "                records_with_multiple_dois += 1"
   ]
  },
  {
   "cell_type": "code",
   "execution_count": 112,
   "metadata": {},
   "outputs": [
    {
     "data": {
      "text/plain": [
       "726054"
      ]
     },
     "execution_count": 112,
     "metadata": {},
     "output_type": "execute_result"
    }
   ],
   "source": [
    "records_with_dois"
   ]
  },
  {
   "cell_type": "code",
   "execution_count": 113,
   "metadata": {},
   "outputs": [
    {
     "data": {
      "text/plain": [
       "17039"
      ]
     },
     "execution_count": 113,
     "metadata": {},
     "output_type": "execute_result"
    }
   ],
   "source": [
    "records_with_multiple_dois"
   ]
  },
  {
   "cell_type": "code",
   "execution_count": 114,
   "metadata": {},
   "outputs": [
    {
     "data": {
      "text/plain": [
       "519"
      ]
     },
     "execution_count": 114,
     "metadata": {},
     "output_type": "execute_result"
    }
   ],
   "source": [
    "records_possible_dois"
   ]
  },
  {
   "cell_type": "code",
   "execution_count": null,
   "metadata": {},
   "outputs": [],
   "source": [
    "other_doi_prefixes = [\n",
    "    'http://link.springer.com/openurl/pdf?id=doi:',\n",
    "    'http://link.springer.com/openurl/fulltext?id=doi:',\n",
    "    'http://www.tandfonline.com/doi/full/',\n",
    "    'http://www.tandfonline.com/doi/abs/',\n",
    "    'http://tandfonline.com/doi/full/',\n",
    "    'http://amstat.tandfonline.com/doi/abs/',\n",
    "    'http://amstat.tandfonline.com/doi/full/',\n",
    "    'http://aip.scitation.org/doi/am-pdf/',\n",
    "    'http://online.liebertpub.com/doi/full-xml/',\n",
    "    'http://onlinelibrary.wiley.com/doi/',\n",
    "    'http://onlinelibrary.wiley.com/wol1/doi/',\n",
    "    'http://onlinelibrary.wiley.com/enhanced/doi/',\n",
    "    'http://aip.scitation.org/doi/pdf/',\n",
    "    'http://www.emeraldinsight.com/doi/full-xml/',\n",
    "    'http://www.worldscientific.com/doi/',\n",
    "    'http://ps.psychiatryonline.org/doi/full/',\n",
    "    'http://www.journalofforensiceconomics.com/doi/pdf/',\n",
    "    'http://www.journalofforensiceconomics.com/doi/abs/',\n",
    "    'http://ajph.aphapublications.org/doi/full/',\n",
    "    'http://ajph.aphapublications.org/doi/abs/',\n",
    "    'http://www.futuremedicine.com/doi/full/',\n",
    "    'http://www.futuremedicine.com/doi/abs/',\n",
    "    'http://www.futuremedicine.com/doi/pdf/',\n",
    "    'http://www.blackwell-synergy.com/doi/',\n",
    "    'http://www.pnas.org/syndication/doi/',\n",
    "    'http://aca.scitation.org/doi/pdf/',\n",
    "    'http://www.mitpressjournals.org/doi/abs/',\n",
    "    'http://www.mitpressjournals.org/doi/full/',\n",
    "    'http://www.mitpressjournals.org/doi/pdfplus/',\n",
    "    'http://www.nejm.org/doi/full/',\n",
    "    'http://www.nejm.org/doi/pdf/',\n",
    "    'http://aaajournals.org/doi/abs/',\n",
    "    'http://ajhpcontents.org/doi/',\n",
    "    'http://journals.sagepub.com/doi/full/',\n",
    "    'http://journals.sagepub.com/doi/abs/',\n",
    "    'http://pubs.aeaweb.org/doi/pdfplus/',\n",
    "    'http://pubs.acs.org/doi/pdf/',\n",
    "    'http://www.liebertonline.com/doi/pdfplus/',\n",
    "    'http://www.liebertonline.com/doi/abs/',\n",
    "    'http://www.journals.uchicago.edu/doi/abs/',\n",
    "    'http://www.journals.uchicago.edu/doi/pdf/',\n",
    "    'http://www.journals.uchicago.edu/doi/',\n",
    "    'http://www.emeraldinsight.com/doi/abs/',\n",
    "    'http://www.emeraldinsight.com/doi/full/',\n",
    "    'http://psycnet.apa.org/?&fa=main.doiLanding&doi=',\n",
    "    'http://ajph.aphapublications.org/doi/pdf/',\n",
    "    'http://ps.psychiatryonline.org/doi/abs/',\n",
    "    'http://www.annualreviews.org/doi/abs/',\n",
    "    'http://www.springerlink.com/openurl.asp?genre=article&id=doi:',\n",
    "    'http://www.inquiryjournalonline.org/doi/pdf/',\n",
    "    'http://www.inquiryjournalonline.org/doi/abs/',\n",
    "    'http://journals.humankinetics.com/doi/abs/',\n",
    "    'http://www.atypon-link.com/doi/pdfplus/',\n",
    "    'http://www.atypon-link.com/DH/doi/abs/',\n",
    "    'http://sor.scitation.org/doi/am-pdf/',\n",
    "    'http://www.journalsonline.tandf.co.uk/openurl.asp?genre=article&id=doi',\n",
    "    'http://www.aeaweb.org/articles.php?doi=',\n",
    "    'http://www.iijournals.com/doi/abs/',\n",
    "    'http://www.maneyonline.com/doi/abs/',\n",
    "    'http://www.developmentbookshelf.com/doi/abs/',\n",
    "    'http://thejns.org/doi/pdf/',\n",
    "    'http://online.liebertpub.com/doi/',\n",
    "    ' http://www.annualreviews.org/doi/pdf/',\n",
    "    'http://publications.amsus.org/doi/abs/',\n",
    "    'http://ps.psychiatryonline.org/doi/',\n",
    "    'http://ejournals.duncker-humblot.de/doi/abs/',\n",
    "    'http://ajp.psychiatryonline.org/doi/',\n",
    "    'http://www.informapharmascience.com/doi/abs/',\n",
    "    'http://publications.amsus.org/action/showMultipleAbstracts?doi=',\n",
    "    'http://journals.ametsoc.org/doi/pdf/',\n",
    "    ' http://www.annualreviews.org/doi/pdf/',\n",
    "    'http://link.aps.org/doi/',\n",
    "    'oai://nature.com/',\n",
    "    'http://journals.aps.org/prl/abstract/',\n",
    "    'http://www.frontiersin.org/articles/'\n",
    "]"
   ]
  }
 ],
 "metadata": {
  "kernelspec": {
   "display_name": "Python 3",
   "language": "python",
   "name": "python3"
  }
 },
 "nbformat": 4,
 "nbformat_minor": 2
}
