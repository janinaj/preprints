{
 "cells": [
  {
   "cell_type": "code",
   "execution_count": 2,
   "metadata": {},
   "outputs": [],
   "source": [
    "import os, json\n",
    "from collections import defaultdict\n",
    "\n",
    "file = os.path.join('..', '..', 'data', 'share-jan-2019.json')\n",
    "\n",
    "languages = defaultdict(int)\n",
    "\n",
    "with open(file, 'r') as f:\n",
    "    for line in f:\n",
    "        data = json.loads(line)\n",
    "        \n",
    "        if data['language'] is None:\n",
    "            languages[None] +=1\n",
    "        else:\n",
    "            languages[data['language']] += 1"
   ]
  },
  {
   "cell_type": "code",
   "execution_count": 13,
   "metadata": {},
   "outputs": [
    {
     "data": {
      "text/plain": [
       "[(None, 2170757),\n",
       " ('eng', 36848),\n",
       " ('en', 10950),\n",
       " ('eee', 3861),\n",
       " ('', 71),\n",
       " ('spa', 2),\n",
       " ('fra', 2),\n",
       " ('deu', 2),\n",
       " ('English', 1),\n",
       " ('ita', 1)]"
      ]
     },
     "execution_count": 13,
     "metadata": {},
     "output_type": "execute_result"
    }
   ],
   "source": [
    "sorted(languages.items(), key=lambda kv: kv[1], reverse = True)"
   ]
  },
  {
   "cell_type": "code",
   "execution_count": 39,
   "metadata": {},
   "outputs": [
    {
     "data": {
      "image/png": "[encoded data removed]",
      "text/plain": [
       "<Figure size 720x432 with 1 Axes>"
      ]
     },
     "metadata": {
      "needs_background": "light"
     },
     "output_type": "display_data"
    }
   ],
   "source": [
    "% matplotlib inline\n",
    "import matplotlib.pyplot as plt\n",
    "\n",
    "x, y = zip(*sorted(languages.items(), key=lambda kv: kv[1], reverse = True))\n",
    "\n",
    "plt.figure(figsize=(10,6))\n",
    "plt.bar(range(len(x)), y)\n",
    "plt.xticks(range(len(x)), x)\n",
    "\n",
    "for i, v in enumerate(y):\n",
    "    plt.text(range(len(x))[i] - 0.25, v + 20000, str(v))\n",
    "    \n",
    "plt.show()"
   ]
  },
  {
   "cell_type": "code",
   "execution_count": null,
   "metadata": {},
   "outputs": [],
   "source": []
  }
 ],
 "metadata": {
  "kernelspec": {
   "display_name": "Python 3",
   "language": "python",
   "name": "python3"
  },
  "language_info": {
   "codemirror_mode": {
    "name": "ipython",
    "version": 3
   },
   "file_extension": ".py",
   "mimetype": "text/x-python",
   "name": "python",
   "nbconvert_exporter": "python",
   "pygments_lexer": "ipython3",
   "version": "3.7.2"
  }
 },
 "nbformat": 4,
 "nbformat_minor": 2
}
