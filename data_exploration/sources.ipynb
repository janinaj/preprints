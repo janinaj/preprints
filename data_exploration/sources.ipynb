{
 "cells": [
  {
   "cell_type": "code",
   "execution_count": 17,
   "metadata": {},
   "outputs": [],
   "source": [
    "import os, json, csv\n",
    "from collections import defaultdict\n",
    "\n",
    "osf_oi_preprint_sources = set()\n",
    "sources_not_in_osf = set()\n",
    "with open(os.path.join('..', '..', 'data_exploration_results', 'osf_io_preprint_search_sources.csv')) as f:\n",
    "    reader = csv.DictReader(f)\n",
    "    for row in reader:\n",
    "        osf_oi_preprint_sources.add(row['Source'])\n",
    "        if row['Other Source Name'] != '':\n",
    "            osf_oi_preprint_sources.add(row['Other Source Name'])\n",
    "\n",
    "sources = defaultdict(int)\n",
    "sources_per_record = []\n",
    "records_with_sources_not_in_osf = 0\n",
    "\n",
    "with open(os.path.join('..', '..', 'data', 'share-jan-2019.json')) as f:\n",
    "    for line in f:\n",
    "        data = json.loads(line)\n",
    "        for source in data['sources']:\n",
    "            sources[source] += 1\n",
    "        \n",
    "        if len(set(data['sources']).intersection(osf_oi_preprint_sources)) == 0:\n",
    "            not_in_osf = set(data['sources']) - osf_oi_preprint_sources\n",
    "            if len(not_in_osf) > 0:\n",
    "                sources_not_in_osf = sources_not_in_osf.union(not_in_osf)\n",
    "            \n",
    "            records_with_sources_not_in_osf += 1\n",
    "            \n",
    "        sources_per_record.append(len(data['sources']))"
   ]
  },
  {
   "cell_type": "code",
   "execution_count": 15,
   "metadata": {
    "scrolled": true
   },
   "outputs": [
    {
     "data": {
      "text/plain": [
       "{'AgEcon Search',\n",
       " 'BITSS',\n",
       " 'BioMed Central',\n",
       " 'CERN Document Server',\n",
       " 'CSIR Researchspace',\n",
       " 'Calhoun: Institutional Archive of the Naval Postgraduate School',\n",
       " 'CrossRef',\n",
       " 'DSpace at Texas State University',\n",
       " 'DSpace@MIT',\n",
       " 'DataCite MDS',\n",
       " 'Deep Blue @ University of Michigan',\n",
       " 'Department of Energy Pages',\n",
       " 'Digital Commons @ Wayne State',\n",
       " 'Digital.CSIC',\n",
       " \"DoE's SciTech Connect Database\",\n",
       " 'Dryad Data Repository',\n",
       " 'Eprints in Library and Information Science',\n",
       " 'Ghent University Academic Bibliography',\n",
       " 'Harvard Dataverse',\n",
       " 'Hyper Articles en Ligne (HAL)',\n",
       " \"Indiana University Libraries' IUScholarWorks\",\n",
       " 'KU ScholarWorks',\n",
       " 'MOspace Institutional Repository',\n",
       " 'Mason Archival Repository Service',\n",
       " 'PubMed Central',\n",
       " 'RCAAP - Repositório Científico de Acesso Aberto de Portugal',\n",
       " 'ResearchWorks @ University of Washington',\n",
       " 'SHAREOK Repository',\n",
       " 'Springer',\n",
       " 'The OAKTrust Digital Repository at Texas A&M',\n",
       " 'The University of Maryland Libraries DRUM (Digital Repository at the University of Maryland)',\n",
       " 'University of Texas at Austin Digital Repository',\n",
       " 'University of Wisconsin-Madison Libraries',\n",
       " 'Virginia Tech VTechWorks',\n",
       " 'WHOAS at MBLWHOI Library',\n",
       " 'Washington State University Research Exchange',\n",
       " 'Zenodo'}"
      ]
     },
     "execution_count": 15,
     "metadata": {},
     "output_type": "execute_result"
    }
   ],
   "source": [
    "sources_not_in_osf"
   ]
  },
  {
   "cell_type": "code",
   "execution_count": 16,
   "metadata": {},
   "outputs": [
    {
     "data": {
      "text/plain": [
       "37"
      ]
     },
     "execution_count": 16,
     "metadata": {},
     "output_type": "execute_result"
    }
   ],
   "source": [
    "len(sources_not_in_osf)"
   ]
  },
  {
   "cell_type": "code",
   "execution_count": 18,
   "metadata": {},
   "outputs": [
    {
     "data": {
      "text/plain": [
       "42232"
      ]
     },
     "execution_count": 18,
     "metadata": {},
     "output_type": "execute_result"
    }
   ],
   "source": [
    "records_with_sources_not_in_osf"
   ]
  },
  {
   "cell_type": "code",
   "execution_count": 8,
   "metadata": {},
   "outputs": [
    {
     "data": {
      "image/png": "[encoded data removed]",
      "text/plain": [
       "<Figure size 864x576 with 1 Axes>"
      ]
     },
     "metadata": {
      "needs_background": "light"
     },
     "output_type": "display_data"
    }
   ],
   "source": [
    "% matplotlib inline\n",
    "import matplotlib.pyplot as plt\n",
    "import numpy as np\n",
    "\n",
    "freq, counts = np.unique(np.array(sources_per_record), return_counts = True)\n",
    "\n",
    "plt.figure(figsize=(12,8))\n",
    "plt.bar(range(len(freq)), counts)\n",
    "plt.xticks(range(len(freq)), freq)\n",
    "\n",
    "plt.show()"
   ]
  },
  {
   "cell_type": "code",
   "execution_count": null,
   "metadata": {},
   "outputs": [],
   "source": []
  }
 ],
 "metadata": {
  "kernelspec": {
   "display_name": "Python 3",
   "language": "python",
   "name": "python3"
  },
  "language_info": {
   "codemirror_mode": {
    "name": "ipython",
    "version": 3
   },
   "file_extension": ".py",
   "mimetype": "text/x-python",
   "name": "python",
   "nbconvert_exporter": "python",
   "pygments_lexer": "ipython3",
   "version": "3.7.2"
  }
 },
 "nbformat": 4,
 "nbformat_minor": 2
}
