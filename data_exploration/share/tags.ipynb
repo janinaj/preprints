{
 "cells": [
  {
   "cell_type": "markdown",
   "metadata": {},
   "source": [
    "# TAG STATISTICS\n",
    "\n",
    "1. [Median, min, max](#gen-stats)\n",
    "2. [Number of tags per record (graph)](#tags-per-record)\n",
    "4. [No tags (table)](#no-tags)"
   ]
  },
  {
   "cell_type": "code",
   "execution_count": 9,
   "metadata": {},
   "outputs": [],
   "source": [
    "import os\n",
    "\n",
    "# SHARE data file, each line is a record\n",
    "SHARE_FILE = os.path.join('..', '..', 'data', 'share-jan-2019.json')"
   ]
  },
  {
   "cell_type": "code",
   "execution_count": 12,
   "metadata": {},
   "outputs": [],
   "source": [
    "import json\n",
    "from collections import defaultdict\n",
    "\n",
    "# number of tags per record\n",
    "tags_per_record = []\n",
    "\n",
    "records_with_no_tags_per_source = defaultdict(int)\n",
    "\n",
    "with open(SHARE_FILE, 'r') as f:\n",
    "    for line in f:\n",
    "        data = json.loads(line)\n",
    "        \n",
    "        # checks if there are duplicate tags in a single record\n",
    "        # this should not happen\n",
    "        if len(data['tags']) != len(set(data['tags'])):\n",
    "            print('Duplicate tags: {}'.format(data['id']))\n",
    "            print(data['tags'])\n",
    "\n",
    "        tags_per_record.append(len(data['tags']))\n",
    "        \n",
    "        if len(data['tags']) == 0:\n",
    "            for source in data['sources']:\n",
    "                records_with_no_tags_per_source[source] += 1\n",
    "            \n",
    "            records_with_no_tags_per_source['-Total Records-'] += 1"
   ]
  },
  {
   "cell_type": "markdown",
   "metadata": {},
   "source": [
    "## <a id='gen-stats'>GENERAL STATISTICS</a>"
   ]
  },
  {
   "cell_type": "code",
   "execution_count": 13,
   "metadata": {},
   "outputs": [
    {
     "name": "stdout",
     "output_type": "stream",
     "text": [
      "MEDIAN NUMBER OF TAGS PER RECORD: 4\n",
      "MIN NUMBER OF TAGS PER RECORD: 0\n",
      "MAX NUMBER OF TAGS PER RECORD: 221\n"
     ]
    }
   ],
   "source": [
    "import statistics\n",
    "print('MEDIAN NUMBER OF TAGS PER RECORD: {}'.format(statistics.median(tags_per_record)))\n",
    "print('MIN NUMBER OF TAGS PER RECORD: {}'.format(min(tags_per_record)))\n",
    "print('MAX NUMBER OF TAGS PER RECORD: {}'.format(max(tags_per_record)))"
   ]
  },
  {
   "cell_type": "markdown",
   "metadata": {},
   "source": [
    "## <a id='tags-per-record'>TAGS PER RECORD</a>"
   ]
  },
  {
   "cell_type": "code",
   "execution_count": 14,
   "metadata": {},
   "outputs": [
    {
     "data": {
      "image/png": "[encoded data removed]",
      "text/plain": [
       "<Figure size 864x576 with 1 Axes>"
      ]
     },
     "metadata": {
      "needs_background": "light"
     },
     "output_type": "display_data"
    }
   ],
   "source": [
    "% matplotlib inline\n",
    "import matplotlib.pyplot as plt\n",
    "import numpy as np\n",
    "\n",
    "freq, counts = np.unique(np.array(tags_per_record), return_counts = True)\n",
    "num_ticks = 16\n",
    "\n",
    "plt.figure(figsize=(12,8))\n",
    "plt.title('Number of tags per record')\n",
    "plt.xlabel('Number of tags')\n",
    "plt.ylabel('Number of records')\n",
    "\n",
    "plt.bar(range(num_ticks), counts[:num_ticks])\n",
    "plt.xticks(range(num_ticks), freq[:num_ticks])\n",
    "\n",
    "for i, v in enumerate(counts[:num_ticks]):\n",
    "    plt.text(range(num_ticks)[i] - 0.4, v + 10000, str(v))\n",
    "\n",
    "plt.show()"
   ]
  },
  {
   "cell_type": "markdown",
   "metadata": {},
   "source": [
    "## <a id='no-tags'>NO TAGS</a>"
   ]
  },
  {
   "cell_type": "code",
   "execution_count": 17,
   "metadata": {},
   "outputs": [
    {
     "data": {
      "text/html": [
       "<div>\n",
       "<style scoped>\n",
       "    .dataframe tbody tr th:only-of-type {\n",
       "        vertical-align: middle;\n",
       "    }\n",
       "\n",
       "    .dataframe tbody tr th {\n",
       "        vertical-align: top;\n",
       "    }\n",
       "\n",
       "    .dataframe thead th {\n",
       "        text-align: right;\n",
       "    }\n",
       "</style>\n",
       "<table border=\"1\" class=\"dataframe\">\n",
       "  <thead>\n",
       "    <tr style=\"text-align: right;\">\n",
       "      <th></th>\n",
       "      <th>Source</th>\n",
       "      <th>Records</th>\n",
       "    </tr>\n",
       "  </thead>\n",
       "  <tbody>\n",
       "    <tr>\n",
       "      <th>0</th>\n",
       "      <td>-Total Records-</td>\n",
       "      <td>8744</td>\n",
       "    </tr>\n",
       "    <tr>\n",
       "      <th>1</th>\n",
       "      <td>CrossRef</td>\n",
       "      <td>7248</td>\n",
       "    </tr>\n",
       "    <tr>\n",
       "      <th>2</th>\n",
       "      <td>bioRxiv</td>\n",
       "      <td>5584</td>\n",
       "    </tr>\n",
       "    <tr>\n",
       "      <th>3</th>\n",
       "      <td>OSF</td>\n",
       "      <td>1057</td>\n",
       "    </tr>\n",
       "    <tr>\n",
       "      <th>4</th>\n",
       "      <td>AgEcon Search</td>\n",
       "      <td>522</td>\n",
       "    </tr>\n",
       "    <tr>\n",
       "      <th>5</th>\n",
       "      <td>INA-Rxiv</td>\n",
       "      <td>468</td>\n",
       "    </tr>\n",
       "    <tr>\n",
       "      <th>6</th>\n",
       "      <td>PsyArXiv</td>\n",
       "      <td>452</td>\n",
       "    </tr>\n",
       "    <tr>\n",
       "      <th>7</th>\n",
       "      <td>SocArXiv</td>\n",
       "      <td>264</td>\n",
       "    </tr>\n",
       "    <tr>\n",
       "      <th>8</th>\n",
       "      <td>MarXiv</td>\n",
       "      <td>116</td>\n",
       "    </tr>\n",
       "    <tr>\n",
       "      <th>9</th>\n",
       "      <td>LawArXiv</td>\n",
       "      <td>66</td>\n",
       "    </tr>\n",
       "    <tr>\n",
       "      <th>10</th>\n",
       "      <td>EarthArXiv</td>\n",
       "      <td>47</td>\n",
       "    </tr>\n",
       "    <tr>\n",
       "      <th>11</th>\n",
       "      <td>engrXiv</td>\n",
       "      <td>35</td>\n",
       "    </tr>\n",
       "    <tr>\n",
       "      <th>12</th>\n",
       "      <td>Thesis Commons</td>\n",
       "      <td>32</td>\n",
       "    </tr>\n",
       "    <tr>\n",
       "      <th>13</th>\n",
       "      <td>MindRxiv</td>\n",
       "      <td>16</td>\n",
       "    </tr>\n",
       "    <tr>\n",
       "      <th>14</th>\n",
       "      <td>AgriXiv</td>\n",
       "      <td>14</td>\n",
       "    </tr>\n",
       "    <tr>\n",
       "      <th>15</th>\n",
       "      <td>Arabixiv</td>\n",
       "      <td>14</td>\n",
       "    </tr>\n",
       "    <tr>\n",
       "      <th>16</th>\n",
       "      <td>PaleorXiv</td>\n",
       "      <td>13</td>\n",
       "    </tr>\n",
       "    <tr>\n",
       "      <th>17</th>\n",
       "      <td>LIS Scholarship Archive</td>\n",
       "      <td>12</td>\n",
       "    </tr>\n",
       "    <tr>\n",
       "      <th>18</th>\n",
       "      <td>Frenxiv</td>\n",
       "      <td>11</td>\n",
       "    </tr>\n",
       "    <tr>\n",
       "      <th>19</th>\n",
       "      <td>ECSarXiv</td>\n",
       "      <td>8</td>\n",
       "    </tr>\n",
       "    <tr>\n",
       "      <th>20</th>\n",
       "      <td>SportRxiv</td>\n",
       "      <td>6</td>\n",
       "    </tr>\n",
       "    <tr>\n",
       "      <th>21</th>\n",
       "      <td>DataCite MDS</td>\n",
       "      <td>5</td>\n",
       "    </tr>\n",
       "    <tr>\n",
       "      <th>22</th>\n",
       "      <td>AfricArXiv</td>\n",
       "      <td>4</td>\n",
       "    </tr>\n",
       "    <tr>\n",
       "      <th>23</th>\n",
       "      <td>BITSS</td>\n",
       "      <td>3</td>\n",
       "    </tr>\n",
       "    <tr>\n",
       "      <th>24</th>\n",
       "      <td>Zenodo</td>\n",
       "      <td>1</td>\n",
       "    </tr>\n",
       "  </tbody>\n",
       "</table>\n",
       "</div>"
      ],
      "text/plain": [
       "                     Source  Records\n",
       "0           -Total Records-     8744\n",
       "1                  CrossRef     7248\n",
       "2                   bioRxiv     5584\n",
       "3                       OSF     1057\n",
       "4             AgEcon Search      522\n",
       "5                  INA-Rxiv      468\n",
       "6                  PsyArXiv      452\n",
       "7                  SocArXiv      264\n",
       "8                    MarXiv      116\n",
       "9                  LawArXiv       66\n",
       "10               EarthArXiv       47\n",
       "11                  engrXiv       35\n",
       "12           Thesis Commons       32\n",
       "13                 MindRxiv       16\n",
       "14                  AgriXiv       14\n",
       "15                 Arabixiv       14\n",
       "16                PaleorXiv       13\n",
       "17  LIS Scholarship Archive       12\n",
       "18                  Frenxiv       11\n",
       "19                 ECSarXiv        8\n",
       "20                SportRxiv        6\n",
       "21             DataCite MDS        5\n",
       "22               AfricArXiv        4\n",
       "23                    BITSS        3\n",
       "24                   Zenodo        1"
      ]
     },
     "execution_count": 17,
     "metadata": {},
     "output_type": "execute_result"
    }
   ],
   "source": [
    "import pandas as pd\n",
    "df = pd.DataFrame(sorted(records_with_no_tags_per_source.items(), key = lambda kv : kv[1], reverse = True), \\\n",
    "                  columns = ['Source', 'Records'])\n",
    "\n",
    "df"
   ]
  },
  {
   "cell_type": "code",
   "execution_count": null,
   "metadata": {},
   "outputs": [],
   "source": []
  }
 ],
 "metadata": {
  "kernelspec": {
   "display_name": "Python 3",
   "language": "python",
   "name": "python3"
  },
  "language_info": {
   "codemirror_mode": {
    "name": "ipython",
    "version": 3
   },
   "file_extension": ".py",
   "mimetype": "text/x-python",
   "name": "python",
   "nbconvert_exporter": "python",
   "pygments_lexer": "ipython3",
   "version": "3.7.2"
  }
 },
 "nbformat": 4,
 "nbformat_minor": 2
}
