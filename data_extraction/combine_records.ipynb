{
 "cells": [
  {
   "cell_type": "code",
   "execution_count": 3,
   "metadata": {},
   "outputs": [],
   "source": [
    "OUTPUT_FOLDER = os.path.join('..', '..', 'data', 'combined_records')\n",
    "if not os.path.exists(OUTPUT_FOLDER):\n",
    "    os.mkdir(OUTPUT_FOLDER)"
   ]
  },
  {
   "cell_type": "markdown",
   "metadata": {},
   "source": [
    "### COMBINE SHARE AND OSF PREPRINT DATA"
   ]
  },
  {
   "cell_type": "code",
   "execution_count": 2,
   "metadata": {},
   "outputs": [],
   "source": [
    "import os\n",
    "\n",
    "# contains the list of IDs present in both SHARE and the OSF Preprint API\n",
    "ID_LIST_FILE = os.path.join('..', '..', 'data', 'share_source_ids', 'osf_preprint_api.txt')"
   ]
  },
  {
   "cell_type": "code",
   "execution_count": 7,
   "metadata": {},
   "outputs": [],
   "source": [
    "ids = []\n",
    "with open(ID_LIST_FILE, 'r') as f:\n",
    "    for line in f:\n",
    "        ids.append(line.strip())"
   ]
  },
  {
   "cell_type": "code",
   "execution_count": 8,
   "metadata": {},
   "outputs": [],
   "source": [
    "OSF_PREPRINT_FILE = os.path.join('..', '..', 'raw_data', 'osf.json')\n",
    "\n",
    "SHARE_FILE = os.path.join('..', '..', 'data', 'share-jan-2019.json')"
   ]
  },
  {
   "cell_type": "code",
   "execution_count": 9,
   "metadata": {},
   "outputs": [],
   "source": [
    "SHARE_OSF_OUTPUT_FILE = os.path.join(OUTPUT_FOLDER, 'share_osf.json')"
   ]
  },
  {
   "cell_type": "code",
   "execution_count": 13,
   "metadata": {},
   "outputs": [
    {
     "name": "stdout",
     "output_type": "stream",
     "text": [
      "Multiple OSF IDs in one SHARE record: {'z49tk', 'tgez8'}\n",
      "1 of 2 IDs found in OSF\n",
      "Multiple OSF IDs in one SHARE record: {'dqrrx', 'preprints/socarxiv/d67x5'}\n",
      "1 of 2 IDs found in OSF\n",
      "Multiple OSF IDs in one SHARE record: {'zzbka', 'preprints/psyarxiv/zzbka'}\n",
      "1 of 2 IDs found in OSF\n",
      "Multiple OSF IDs in one SHARE record: {'preprints/socarxiv/vuhhp', 'vuhhp'}\n",
      "1 of 2 IDs found in OSF\n",
      "Multiple OSF IDs in one SHARE record: {'dgmzf', 'w3s3s'}\n",
      "1 of 2 IDs found in OSF\n",
      "Multiple OSF IDs in one SHARE record: {'preprints/engrxiv/s47fh', 's47fh'}\n",
      "1 of 2 IDs found in OSF\n",
      "Multiple OSF IDs in one SHARE record: {'3q5if', 'fma3p'}\n",
      "1 of 2 IDs found in OSF\n"
     ]
    }
   ],
   "source": [
    "import json\n",
    "\n",
    "records = {}\n",
    "with open(SHARE_FILE) as f:\n",
    "    for line in f:\n",
    "        data = json.loads(line)\n",
    "\n",
    "        osf_ids = set()\n",
    "        for identifier in data['identifiers']:\n",
    "            if identifier.startswith('http://osf.io/'):\n",
    "                osf_id = identifier.replace('http://osf.io/', '')\n",
    "                if osf_id.endswith('/'):\n",
    "                    osf_id = osf_id[:-1]\n",
    "\n",
    "                if '|' in osf_id:\n",
    "                    raise Exception('Pipe character used in identifier. Change delimiter')\n",
    "                osf_ids.add(osf_id)\n",
    "\n",
    "        if len(osf_ids) > 1:\n",
    "            print('Multiple OSF IDs in one SHARE record: {}'.format(osf_ids))\n",
    "        \n",
    "            ids_found = 0\n",
    "            for osf_id in osf_ids:\n",
    "                if osf_id in ids:\n",
    "                    ids_found += 1\n",
    "                    \n",
    "            print('{} of {} IDs found in OSF'.format(ids_found, len(osf_ids)))\n",
    "            \n",
    "        for osf_id in osf_ids:\n",
    "            if osf_id in ids:\n",
    "                records[osf_id] = { 'id' : osf_id, 'share' : data }\n",
    "\n",
    "with open(OSF_PREPRINT_FILE, 'r') as f:\n",
    "    for line in f:\n",
    "        data = json.loads(line)\n",
    "\n",
    "        for record in data['data']:\n",
    "            if record['id'] in records:\n",
    "                records[record['id']]['osf'] = record    \n",
    "                \n",
    "with open(SHARE_OSF_OUTPUT_FILE, 'w') as o:\n",
    "    for id_, record in records.items():\n",
    "        json.dump(record, o)\n",
    "        o.write('\\n')"
   ]
  },
  {
   "cell_type": "code",
   "execution_count": null,
   "metadata": {},
   "outputs": [],
   "source": []
  }
 ],
 "metadata": {
  "kernelspec": {
   "display_name": "Python 3",
   "language": "python",
   "name": "python3"
  },
  "language_info": {
   "codemirror_mode": {
    "name": "ipython",
    "version": 3
   },
   "file_extension": ".py",
   "mimetype": "text/x-python",
   "name": "python",
   "nbconvert_exporter": "python",
   "pygments_lexer": "ipython3",
   "version": "3.7.2"
  }
 },
 "nbformat": 4,
 "nbformat_minor": 2
}
